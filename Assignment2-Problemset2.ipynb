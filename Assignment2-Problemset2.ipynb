{
 "cells": [
  {
   "cell_type": "markdown",
   "id": "5b6ee175",
   "metadata": {},
   "source": [
    "# Question 1\n",
    "Consider the following Python module: a = 0\n",
    "\n",
    "def b():\n",
    "global a\n",
    "a = c(a)\n",
    "def c(a):\n",
    "return a + 2\n",
    "\n",
    "After importing the module into the interpreter, you execute:\n",
    "\" >>> b()\n",
    "\" >>> b()\n",
    "\" >>> b()\n",
    "\" >>> a\n",
    "What value is displayed when the last expression (a) is evaluated? Explain your answer by indicating what happens in every executed statement."
   ]
  },
  {
   "cell_type": "code",
   "execution_count": 60,
   "id": "93999705",
   "metadata": {},
   "outputs": [
    {
     "name": "stdout",
     "output_type": "stream",
     "text": [
      "6\n"
     ]
    }
   ],
   "source": [
    "a = 0\n",
    "\n",
    "def b():\n",
    "    global a\n",
    "    a = c(a)\n",
    "def c(a):\n",
    "    return a + 2\n",
    "b()#here the result=2 -- a=0 then 0+2\n",
    "b()#here the result=4 -- a=2 then 2+2\n",
    "b()#here the result=6 -- a=4 then 4+2\n",
    "print(a)# final result = 6"
   ]
  },
  {
   "cell_type": "markdown",
   "id": "2a585aad",
   "metadata": {},
   "source": [
    "As we can see 'a' is a global variable inside b() function ,which creates a new namespace. Function is called for c inside b() with global variable 'a' when c(a) function called which creates a new namespace and make 'a' a local variable."
   ]
  },
  {
   "cell_type": "markdown",
   "id": "f26ef2e6",
   "metadata": {},
   "source": [
    "# Question 2\n",
    "Question 2\n",
    "\n",
    "Function fileLength(), given to you, takes the name of a file as input and returns. the length of the file:\n",
    "\n",
    "fileLength('midterm.py')\n",
    "\n",
    "As shown above, if the file cannot be found by the interpreter or if it cannot be read\n",
    "as a text file, an exception will be raised. Modify function fileLength() so that a\n",
    "friendly message is printed instead:\n",
    "\n",
    "fileLength('midterm.py')\n",
    "\n",
    "358\n",
    "\n",
    "fileLength('idterm.py')\n",
    "File idterm.py not found."
   ]
  },
  {
   "cell_type": "code",
   "execution_count": 9,
   "id": "78d3a854",
   "metadata": {},
   "outputs": [
    {
     "name": "stdout",
     "output_type": "stream",
     "text": [
      "18\n"
     ]
    },
    {
     "data": {
      "text/plain": [
       "'File Filelength.txt not found.'"
      ]
     },
     "execution_count": 9,
     "metadata": {},
     "output_type": "execute_result"
    }
   ],
   "source": [
    "def fileLength(filename):\n",
    "        try:\n",
    "                f=open(filename)\n",
    "                contents=f.readlines()\n",
    "                f.close()\n",
    "                print(len(contents))\n",
    "        except FileNotFoundError:\n",
    "                return (\"File {} not found.\".format(filename))\n",
    "fileLength('midterm.py')\n",
    "fileLength('Filelength.txt')\n"
   ]
  },
  {
   "cell_type": "markdown",
   "id": "544a4cc9",
   "metadata": {},
   "source": [
    "# Question 3\n",
    "Write a class named Marsupial that can be used as shown below:\n",
    "\n",
    "m = Marsupial()\n",
    "m.put_in_pouch('doll')\n",
    "m.put_in_pouch('firetruck')\n",
    "m.put_in_pouch('kitten')\n",
    "m.pouch_contents()\n",
    "\n",
    "['doll', 'firetruck', 'kitten']\n",
    "Now write a class named Kangaroo as a subclass of Marsupial that inherits all the attributes of Marsupial and also:\n",
    "a. extends the Marsupial init constructor to take, as input, the coordinates x and y of the Kangaroo object,\n",
    "b. supports method jump that takes number values dx and dy as input and moves the kangaroo by dx units along the x-axis and by dy units along the y-axis, and\n",
    "c. overloads the str operator so it behaves as shown below.\n",
    "\n",
    "k = Kangaroo(0,0)\n",
    "print(k)\n",
    "\n",
    "I am a Kangaroo located at coordinates (0,0)\n",
    "\n",
    "k.put_in_pouch('doll')\n",
    "k.put_in_pouch('firetruck')\n",
    "k.put_in_pouch('kitten')\n",
    "k.pouch_contents()\n",
    "\n",
    "['doll', 'firetruck', 'kitten']\n",
    "\n",
    "k.jump(1,0)\n",
    "k.jump(1,0)\n",
    "k.jump(1,0)\n",
    "print(k)\n",
    "\n",
    "I am a Kangaroo located at coordinates (3,0)"
   ]
  },
  {
   "cell_type": "code",
   "execution_count": 64,
   "id": "38d69e00",
   "metadata": {},
   "outputs": [
    {
     "name": "stdout",
     "output_type": "stream",
     "text": [
      "['doll', 'firetruck', 'kitten']\n",
      "I am a Kanagroo located at coordinates (0,0)\n",
      "['doll', 'firetruck', 'kitten']\n",
      "I am a Kanagroo located at coordinates (3,0)\n"
     ]
    }
   ],
   "source": [
    "class Marsupial:\n",
    "\n",
    "    def __init__(self):\n",
    "        self.pouch=[]\n",
    "        \n",
    "    def put_in_pouch(self, obj):\n",
    "        self.pouch.append(obj)\n",
    "\n",
    "    def pouch_contents(self):\n",
    "        return self.pouch\n",
    "class Kangaroo(Marsupial):\n",
    "\n",
    "    def __init__(self, x,y):  \n",
    "        Marsupial.__init__(self)\n",
    "        self.xaxis=x\n",
    "        self.yaxis=y\n",
    "    def jump(self, dx, dy):\n",
    "        self.xaxis+=dx\n",
    "        self.xaxis+=dy\n",
    "    def __str__(self):\n",
    "        return \"I am a Kanagroo located at coordinates (\"+str(self.xaxis)+\",\"+str(self.yaxis)+\")\"\n",
    "\n",
    "m=Marsupial()\n",
    "\n",
    "m.put_in_pouch(\"doll\")\n",
    "\n",
    "m.put_in_pouch(\"firetruck\")\n",
    "\n",
    "m.put_in_pouch(\"kitten\")\n",
    "\n",
    "print(m.pouch_contents())\n",
    "\n",
    "k = Kangaroo(0,0)\n",
    "\n",
    "print(k)\n",
    "\n",
    "k.put_in_pouch('doll')\n",
    "\n",
    "k.put_in_pouch('firetruck')\n",
    "\n",
    "k.put_in_pouch('kitten')\n",
    "\n",
    "print(k.pouch_contents())\n",
    "\n",
    "k.jump(1,0)\n",
    "\n",
    "k.jump(1,0)\n",
    "\n",
    "k.jump(1,0)\n",
    "\n",
    "print(k)"
   ]
  },
  {
   "cell_type": "markdown",
   "id": "38e0fd40",
   "metadata": {},
   "source": [
    "# Question4\n",
    "Write function collatz() that takes a positive integer x as input and prints the Collatz sequence starting at x. A Collatz sequence is obtained by repeatedly applying this rule to the previous number x in the sequence:\n",
    "\n",
    "x = { 𝑥/2 𝑖𝑓 𝑥 𝑖𝑠 𝑒𝑣𝑒𝑛\n",
    "3𝑥 + 1 𝑖𝑓 𝑥 𝑖𝑠 𝑜𝑑𝑑\n",
    "\n",
    "Your function should stop when the sequence gets to number 1. Your implementation must be recursive, without any loops."
   ]
  },
  {
   "cell_type": "code",
   "execution_count": 13,
   "id": "d91ad4d3",
   "metadata": {},
   "outputs": [
    {
     "name": "stdout",
     "output_type": "stream",
     "text": [
      "10 5 16 8 4 2 1\n",
      "1\n"
     ]
    }
   ],
   "source": [
    "def collatz(n):   \n",
    "    while n != 1:\n",
    "        print(n, end = ' ')     \n",
    "        if n & 1:\n",
    "            n = 3 * n + 1\n",
    "        else:\n",
    "            n = n // 2\n",
    "    print(n)\n",
    "\n",
    "collatz(10)\n",
    "collatz(1)"
   ]
  },
  {
   "cell_type": "markdown",
   "id": "e1aa0dea",
   "metadata": {},
   "source": [
    "# Question5\n",
    "Write a recursive method binary() that takes a non-negative integer n and prints the binary representation of integer n. binary(0) binary(1) binary(3) binary(9)"
   ]
  },
  {
   "cell_type": "code",
   "execution_count": 18,
   "id": "2ae5894b",
   "metadata": {},
   "outputs": [
    {
     "name": "stdout",
     "output_type": "stream",
     "text": [
      "0\n",
      "1\n",
      "11\n",
      "1001\n"
     ]
    }
   ],
   "source": [
    "def binary(n):\n",
    "    if n < 2:\n",
    "        return n\n",
    "    else:\n",
    "        return str(binary(int(n / 2))) + str(n % 2)\n",
    "\n",
    "print(binary(0))\n",
    "print(binary(1))\n",
    "print(binary(3))\n",
    "print(binary(9))"
   ]
  },
  {
   "cell_type": "markdown",
   "id": "45fc5395",
   "metadata": {},
   "source": [
    "# Question6\n",
    "\n",
    "\n",
    "Implement a class named HeadingParser that can be used to parse an HTML document, and retrieve and print all the headings in the document. You should implement your class as a subclass of HTMLParser, defined in Standard Library module html.parser. When fed a string containing HTML code, your class should print the headings, one per line and in the order in which they appear in the document. Each heading should be indented as follows: an h1 heading should have indentation 0, and h2 heading should have indentation 1, etc. Test your implementation using w3c.html\n"
   ]
  },
  {
   "cell_type": "code",
   "execution_count": 52,
   "id": "d6b87ee6",
   "metadata": {},
   "outputs": [
    {
     "name": "stdout",
     "output_type": "stream",
     "text": [
      "W3C Mission\n",
      "\n",
      "\t\n",
      " Principles\n",
      "\n",
      " \n",
      "\n",
      "\n",
      " \n",
      "\n",
      " \n"
     ]
    }
   ],
   "source": [
    "from html.parser import HTMLParser\n",
    "\n",
    "class HeadingParser(HTMLParser):\n",
    "    def handle_starttag(self, tag, attrs):\n",
    "        global heading,index\n",
    "        headings = ('h1','h2','h3','h4','h5','h6')\n",
    "        if(tag.lower() in headings):\n",
    "            heading = True\n",
    "            index= headings.index(tag.lower())\n",
    "            paddingList.append(index)\n",
    "\n",
    "    def handle_data(self, data):\n",
    "        if(heading and data and len(data)):\n",
    "            dataList.append(data)\n",
    "            dataLength = len(data) + index\n",
    "            print(data.center(dataLength,\" \"))\n",
    "              \n",
    "\n",
    "\n",
    "heading = False\n",
    "index = 0\n",
    "paddingList,dataList = [],[]\n",
    "\n",
    "infile = open('w3c.html')\n",
    "content = infile.read()\n",
    "infile.close()\n",
    "hp = HeadingParser()\n",
    "hp.feed(content)"
   ]
  },
  {
   "cell_type": "markdown",
   "id": "74b5061e",
   "metadata": {},
   "source": [
    "# Question7\n",
    "Implement recursive function webdir() that takes as input: a URL (as a string) and non-negative integers depth and indent. Your function should visit every web page reachable from the starting URL web page in depth clicks or less, and print each web page's URL. As shown below, indentation, specified by indent, should be used to indicate the depth of a URL."
   ]
  },
  {
   "cell_type": "code",
   "execution_count": 53,
   "id": "265a1e4b",
   "metadata": {},
   "outputs": [
    {
     "name": "stdout",
     "output_type": "stream",
     "text": [
      "http://reed.cs.depaul.edu/lperkovic/test1.html\n",
      "  http://reed.cs.depaul.edu/lperkovic/test2.html  \n",
      "    http://reed.cs.depaul.edu/lperkovic/test4.html    \n",
      "  http://reed.cs.depaul.edu/lperkovic/test3.html  \n",
      "    http://reed.cs.depaul.edu/lperkovic/test4.html    \n"
     ]
    }
   ],
   "source": [
    "from urllib.parse import urljoin\n",
    "from html.parser import HTMLParser\n",
    "from urllib.request import urlopen\n",
    "\n",
    "class Collector(HTMLParser):\n",
    "\n",
    "    def __init__(self, url):\n",
    "        HTMLParser.__init__(self)\n",
    "        self.url = url\n",
    "        self.links = []\n",
    "\n",
    "    \n",
    "    def handle_starttag(self, tag, attrs):\n",
    "        if tag == 'a':\n",
    "            for attr in attrs:\n",
    "                if attr[0] == 'href':\n",
    "                    absolute = urljoin(self.url, attr[1])\n",
    "                    if absolute[:4] == 'http': # collect HTTP URLs\n",
    "                        self.links.append(absolute)\n",
    "                        \n",
    "    def getLinks(self):\n",
    "        return self.links\n",
    "\n",
    "def Links(url):\n",
    "    resource = urlopen(url)\n",
    "    content = resource.read().decode()\n",
    "    collector = Collector(url)\n",
    "    collector.feed(content)\n",
    "    return collector.getLinks()\n",
    "\n",
    "def getLinks(self):\n",
    "        return self.links\n",
    "\n",
    "global deep\n",
    "def displayUrl(url,presentDepth):\n",
    "    padding = len(url) + (presentDepth*indentation)\n",
    "    string = url.center(padding,\" \")\n",
    "    print(string)\n",
    "\n",
    "def crawl(url,presentDepth):\n",
    "    \n",
    "\n",
    "    if(presentDepth>deep): return   \n",
    "    displayUrl(url,presentDepth)\n",
    "\n",
    "    links = Links(url)\n",
    "\n",
    "    for link in links:\n",
    "        try:\n",
    "            crawl(link,presentDepth+1)\n",
    "        except:\n",
    "            pass\n",
    "\n",
    "def webdir(url,depth,indent):\n",
    "    global indentation \n",
    "    deep=depth \n",
    "\n",
    "    crawl(url, 0)\n",
    "\n",
    "\n",
    "url = 'http://reed.cs.depaul.edu/lperkovic/test1.html'\n",
    "webdir(url,2,4)"
   ]
  },
  {
   "cell_type": "markdown",
   "id": "c60f6a44",
   "metadata": {},
   "source": [
    "# Question8\n",
    "Write SQL queries on the below database table that return: a) All the temperature data. b) All the cities, but without repetition. c) All the records for India. d) All the Fall records."
   ]
  },
  {
   "cell_type": "code",
   "execution_count": 1,
   "id": "ef39e632",
   "metadata": {},
   "outputs": [
    {
     "name": "stdout",
     "output_type": "stream",
     "text": [
      "Requirement already satisfied: ipython-sql in ./opt/anaconda3/lib/python3.9/site-packages (0.4.0)\n",
      "Requirement already satisfied: sqlalchemy>=0.6.7 in ./opt/anaconda3/lib/python3.9/site-packages (from ipython-sql) (1.4.22)\n",
      "Requirement already satisfied: prettytable<1 in ./opt/anaconda3/lib/python3.9/site-packages (from ipython-sql) (0.7.2)\n",
      "Requirement already satisfied: ipython>=1.0 in ./opt/anaconda3/lib/python3.9/site-packages (from ipython-sql) (7.29.0)\n",
      "Requirement already satisfied: six in ./opt/anaconda3/lib/python3.9/site-packages (from ipython-sql) (1.16.0)\n",
      "Requirement already satisfied: ipython-genutils>=0.1.0 in ./opt/anaconda3/lib/python3.9/site-packages (from ipython-sql) (0.2.0)\n",
      "Requirement already satisfied: sqlparse in ./opt/anaconda3/lib/python3.9/site-packages (from ipython-sql) (0.4.2)\n",
      "Requirement already satisfied: prompt-toolkit!=3.0.0,!=3.0.1,<3.1.0,>=2.0.0 in ./opt/anaconda3/lib/python3.9/site-packages (from ipython>=1.0->ipython-sql) (3.0.20)\n",
      "Requirement already satisfied: pygments in ./opt/anaconda3/lib/python3.9/site-packages (from ipython>=1.0->ipython-sql) (2.10.0)\n",
      "Requirement already satisfied: setuptools>=18.5 in ./opt/anaconda3/lib/python3.9/site-packages (from ipython>=1.0->ipython-sql) (58.0.4)\n",
      "Requirement already satisfied: backcall in ./opt/anaconda3/lib/python3.9/site-packages (from ipython>=1.0->ipython-sql) (0.2.0)\n",
      "Requirement already satisfied: traitlets>=4.2 in ./opt/anaconda3/lib/python3.9/site-packages (from ipython>=1.0->ipython-sql) (5.1.0)\n",
      "Requirement already satisfied: pexpect>4.3 in ./opt/anaconda3/lib/python3.9/site-packages (from ipython>=1.0->ipython-sql) (4.8.0)\n",
      "Requirement already satisfied: pickleshare in ./opt/anaconda3/lib/python3.9/site-packages (from ipython>=1.0->ipython-sql) (0.7.5)\n",
      "Requirement already satisfied: matplotlib-inline in ./opt/anaconda3/lib/python3.9/site-packages (from ipython>=1.0->ipython-sql) (0.1.2)\n",
      "Requirement already satisfied: appnope in ./opt/anaconda3/lib/python3.9/site-packages (from ipython>=1.0->ipython-sql) (0.1.2)\n",
      "Requirement already satisfied: decorator in ./opt/anaconda3/lib/python3.9/site-packages (from ipython>=1.0->ipython-sql) (5.1.0)\n",
      "Requirement already satisfied: jedi>=0.16 in ./opt/anaconda3/lib/python3.9/site-packages (from ipython>=1.0->ipython-sql) (0.18.0)\n",
      "Requirement already satisfied: parso<0.9.0,>=0.8.0 in ./opt/anaconda3/lib/python3.9/site-packages (from jedi>=0.16->ipython>=1.0->ipython-sql) (0.8.2)\n",
      "Requirement already satisfied: ptyprocess>=0.5 in ./opt/anaconda3/lib/python3.9/site-packages (from pexpect>4.3->ipython>=1.0->ipython-sql) (0.7.0)\n",
      "Requirement already satisfied: wcwidth in ./opt/anaconda3/lib/python3.9/site-packages (from prompt-toolkit!=3.0.0,!=3.0.1,<3.1.0,>=2.0.0->ipython>=1.0->ipython-sql) (0.2.5)\n",
      "Requirement already satisfied: greenlet!=0.4.17 in ./opt/anaconda3/lib/python3.9/site-packages (from sqlalchemy>=0.6.7->ipython-sql) (1.1.1)\n"
     ]
    }
   ],
   "source": [
    " !pip install ipython-sql"
   ]
  },
  {
   "cell_type": "code",
   "execution_count": 7,
   "id": "5f870583",
   "metadata": {},
   "outputs": [
    {
     "data": {
      "text/plain": [
       "[(24.8,),\n",
       " (28.4,),\n",
       " (27.9,),\n",
       " (27.6,),\n",
       " (4.2,),\n",
       " (8.3,),\n",
       " (15.7,),\n",
       " (10.4,),\n",
       " (13.6,),\n",
       " (20.7,),\n",
       " (27.7,),\n",
       " (22.2,)]"
      ]
     },
     "execution_count": 7,
     "metadata": {},
     "output_type": "execute_result"
    }
   ],
   "source": [
    "import sqlite3\n",
    "con = sqlite3.connect('test.db')\n",
    "cur = con.cursor()\n",
    "cur.execute('SELECT temperature from climate')\n",
    "cur.fetchall()"
   ]
  },
  {
   "cell_type": "code",
   "execution_count": 8,
   "id": "50deeabd",
   "metadata": {},
   "outputs": [
    {
     "data": {
      "text/plain": [
       "[('Mumbai',), ('London',), ('Cairo',)]"
      ]
     },
     "execution_count": 8,
     "metadata": {},
     "output_type": "execute_result"
    }
   ],
   "source": [
    "cur.execute('SELECT distinct(city) from climate')\n",
    "cur.fetchall()"
   ]
  },
  {
   "cell_type": "code",
   "execution_count": 56,
   "id": "f36e0ad8",
   "metadata": {},
   "outputs": [
    {
     "data": {
      "text/plain": [
       "[('Mumbai', 'India', 'Winter', 24.8, 5.9),\n",
       " ('Mumbai', 'India', 'Spring', 28.4, 16.2),\n",
       " ('Mumbai', 'India', 'Summer', 27.9, 1549.4),\n",
       " ('Mumbai', 'India', 'Fall', 27.6, 346)]"
      ]
     },
     "execution_count": 56,
     "metadata": {},
     "output_type": "execute_result"
    }
   ],
   "source": [
    "cur.execute(\"SELECT * from climate where country = 'India'\")\n",
    "cur.fetchall()"
   ]
  },
  {
   "cell_type": "code",
   "execution_count": 55,
   "id": "85c5b8df",
   "metadata": {},
   "outputs": [
    {
     "data": {
      "text/plain": [
       "[('Mumbai', 'India', 'Fall', 27.6, 346),\n",
       " ('London', 'United kingdom', 'Fall', 10.4, 218.5),\n",
       " ('Cairo', 'Egypt', 'Fall', 22.2, 4.5)]"
      ]
     },
     "execution_count": 55,
     "metadata": {},
     "output_type": "execute_result"
    }
   ],
   "source": [
    "cur.execute(\"SELECT * from climate where season ='Fall'\")\n",
    "cur.fetchall()"
   ]
  },
  {
   "cell_type": "code",
   "execution_count": 22,
   "id": "b532b693",
   "metadata": {},
   "outputs": [
    {
     "data": {
      "text/plain": [
       "[('Mumbai', 'India', 'Winter'),\n",
       " ('Mumbai', 'India', 'Spring'),\n",
       " ('Mumbai', 'India', 'Summer'),\n",
       " ('Mumbai', 'India', 'Fall'),\n",
       " ('London', 'United kingdom', 'Winter'),\n",
       " ('London', 'United kingdom', 'Spring'),\n",
       " ('London', 'United kingdom', 'Summer'),\n",
       " ('London', 'United kingdom', 'Fall'),\n",
       " ('Cairo', 'Egypt', 'Winter'),\n",
       " ('Cairo', 'Egypt', 'Spring'),\n",
       " ('Cairo', 'Egypt', 'Summer'),\n",
       " ('Cairo', 'Egypt', 'Fall')]"
      ]
     },
     "execution_count": 22,
     "metadata": {},
     "output_type": "execute_result"
    }
   ],
   "source": [
    "cur.execute(\"SELECT city,country,season from climate where 200< (Rainfall)<400\")\n",
    "cur.fetchall()"
   ]
  },
  {
   "cell_type": "code",
   "execution_count": 54,
   "id": "e296732a",
   "metadata": {},
   "outputs": [
    {
     "data": {
      "text/plain": [
       "[('Cairo', 'Egypt'), ('Mumbai', 'India')]"
      ]
     },
     "execution_count": 54,
     "metadata": {},
     "output_type": "execute_result"
    }
   ],
   "source": [
    "cur.execute(\"SELECT city,country from climate where season='Fall' and temperature>20 order by temperature ASC\")\n",
    "cur.fetchall()"
   ]
  },
  {
   "cell_type": "code",
   "execution_count": 53,
   "id": "d117cbae",
   "metadata": {},
   "outputs": [
    {
     "data": {
      "text/plain": [
       "[(27.6,)]"
      ]
     },
     "execution_count": 53,
     "metadata": {},
     "output_type": "execute_result"
    }
   ],
   "source": [
    "cur.execute(\"SELECT SUM(Rainfall) From climate where city='Cairo' \")\n",
    "cur.fetchall()"
   ]
  },
  {
   "cell_type": "code",
   "execution_count": 59,
   "id": "202eda12",
   "metadata": {},
   "outputs": [
    {
     "data": {
      "text/plain": [
       "[(569.0,), (192.29999999999998,), (1706.5,), (230.1,)]"
      ]
     },
     "execution_count": 59,
     "metadata": {},
     "output_type": "execute_result"
    }
   ],
   "source": [
    "cur.execute(\"SELECT SUM(Rainfall) From climate Group By season \")\n",
    "cur.fetchall()"
   ]
  },
  {
   "cell_type": "markdown",
   "id": "44fa9ac0",
   "metadata": {},
   "source": [
    "# Question9\n",
    "Suppose list words is defined as follows: words = ['The', 'quick', 'brown', 'fox', 'jumps', 'over', 'the', 'lazy', 'dog']"
   ]
  },
  {
   "cell_type": "code",
   "execution_count": 4,
   "id": "770bb789",
   "metadata": {},
   "outputs": [
    {
     "name": "stdout",
     "output_type": "stream",
     "text": [
      "['THE', 'QUICK', 'BROWN', 'FOX', 'JUMPS', 'OVER', 'THE', 'LAZY', 'DOG']\n",
      "['the', 'quick', 'brown', 'fox', 'jumps', 'over', 'the', 'lazy', 'dog']\n",
      "[3, 5, 5, 3, 5, 4, 3, 4, 3]\n",
      "[['THE', 'the', 3], ['QUICK', 'quick', 5], ['BROWN', 'brown', 5], ['FOX', 'fox', 3], ['JUMPS', 'jumps', 5], ['OVER', 'over', 4], ['THE', 'the', 3], ['LAZY', 'lazy', 4], ['DOG', 'dog', 3]]\n",
      "['quick', 'brown', 'jumps', 'over', 'lazy']\n"
     ]
    }
   ],
   "source": [
    "words = ['The', 'quick', 'brown', 'fox', 'jumps', 'over',\n",
    "'the', 'lazy', 'dog']\n",
    "print([word.upper() for word in words])\n",
    "print([word.lower() for word in words])\n",
    "print([len(word) for word in words])\n",
    "print([[word.upper(),word.lower(),len(word)] for word in words])\n",
    "print([word for word in words if len(word) >= 4])\n",
    "\n"
   ]
  },
  {
   "cell_type": "code",
   "execution_count": null,
   "id": "0c8e02f1",
   "metadata": {},
   "outputs": [],
   "source": []
  }
 ],
 "metadata": {
  "kernelspec": {
   "display_name": "Python 3 (ipykernel)",
   "language": "python",
   "name": "python3"
  },
  "language_info": {
   "codemirror_mode": {
    "name": "ipython",
    "version": 3
   },
   "file_extension": ".py",
   "mimetype": "text/x-python",
   "name": "python",
   "nbconvert_exporter": "python",
   "pygments_lexer": "ipython3",
   "version": "3.9.7"
  }
 },
 "nbformat": 4,
 "nbformat_minor": 5
}
